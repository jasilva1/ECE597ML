{
  "nbformat": 4,
  "nbformat_minor": 0,
  "metadata": {
    "colab": {
      "provenance": []
    },
    "kernelspec": {
      "name": "python3",
      "display_name": "Python 3"
    },
    "language_info": {
      "name": "python"
    }
  },
  "cells": [
    {
      "cell_type": "code",
      "source": [
        "!pip install tabula-py"
      ],
      "metadata": {
        "colab": {
          "base_uri": "https://localhost:8080/"
        },
        "id": "nxhmd6F2Liey",
        "outputId": "f72a7bf3-d193-4506-d1df-cfd8d906ba35"
      },
      "execution_count": null,
      "outputs": [
        {
          "output_type": "stream",
          "name": "stdout",
          "text": [
            "Looking in indexes: https://pypi.org/simple, https://us-python.pkg.dev/colab-wheels/public/simple/\n",
            "Collecting tabula-py\n",
            "  Downloading tabula_py-2.7.0-py3-none-any.whl (12.0 MB)\n",
            "\u001b[2K     \u001b[90m━━━━━━━━━━━━━━━━━━━━━━━━━━━━━━━━━━━━━━━━\u001b[0m \u001b[32m12.0/12.0 MB\u001b[0m \u001b[31m59.4 MB/s\u001b[0m eta \u001b[36m0:00:00\u001b[0m\n",
            "\u001b[?25hCollecting distro\n",
            "  Downloading distro-1.8.0-py3-none-any.whl (20 kB)\n",
            "Requirement already satisfied: numpy in /usr/local/lib/python3.8/dist-packages (from tabula-py) (1.21.6)\n",
            "Requirement already satisfied: pandas>=0.25.3 in /usr/local/lib/python3.8/dist-packages (from tabula-py) (1.3.5)\n",
            "Requirement already satisfied: pytz>=2017.3 in /usr/local/lib/python3.8/dist-packages (from pandas>=0.25.3->tabula-py) (2022.7.1)\n",
            "Requirement already satisfied: python-dateutil>=2.7.3 in /usr/local/lib/python3.8/dist-packages (from pandas>=0.25.3->tabula-py) (2.8.2)\n",
            "Requirement already satisfied: six>=1.5 in /usr/local/lib/python3.8/dist-packages (from python-dateutil>=2.7.3->pandas>=0.25.3->tabula-py) (1.15.0)\n",
            "Installing collected packages: distro, tabula-py\n",
            "Successfully installed distro-1.8.0 tabula-py-2.7.0\n"
          ]
        }
      ]
    },
    {
      "cell_type": "code",
      "execution_count": null,
      "metadata": {
        "id": "AdzkbzHs5bf1"
      },
      "outputs": [],
      "source": [
        "import tabula\n",
        "import pandas as pd\n",
        "import warnings\n",
        "warnings.filterwarnings('ignore')"
      ]
    },
    {
      "cell_type": "code",
      "source": [
        "from google.colab import drive #This allows you to access files (announcement PDF's) from your google drive\n",
        "drive.mount('/content/gdrive')"
      ],
      "metadata": {
        "colab": {
          "base_uri": "https://localhost:8080/"
        },
        "id": "SWSq9BnlPsnV",
        "outputId": "652348a2-e815-440a-92af-ba96f9fd0881"
      },
      "execution_count": null,
      "outputs": [
        {
          "output_type": "stream",
          "name": "stdout",
          "text": [
            "Mounted at /content/gdrive\n"
          ]
        }
      ]
    },
    {
      "cell_type": "code",
      "source": [
        "this_pdf = \"/content/gdrive/Shareddrives/AI Trading Algorithm/Data + PDFs/pdfs/01331195.pdf\"\n",
        "cities = [\"NEW YORK\", \"AMSTERDAM\", \"MEXICO CITY\", \"SYDNEY\", \"MUMBAI\", \"TOKYO\", \"Toronto\", \"Mumbai\", \"India\"]\n",
        "months = [\"JANUARY\", \"JAN\", \"FEBRUARY\", \"FEB\", \"MARCH\", \"MAR.\", \"March\", \"APRIL\", \"APR\", \"MAY\", \"JUNE\", \"JULY\", \"AUGUST\", \"AUG\", \"SEPTEMBER\", \"SEPT\", \"OCTOBER\", \"OCT\", \"NOVEMBER\", \"NOV\", \"DECEMBER\", \"DEC\", \"January\",\"Jan\",\"February\", \"Feb\", \"Mar.\", \"April\", \"Apr\", \"May\", \"June\", \"July\", \"August\", \"Aug\", \"September\", \"Sept\", \"October\", \"Oct\", \"November\", \"Nov\", \"December\", \"Dec\"]"
      ],
      "metadata": {
        "id": "gnOaMS0x519X"
      },
      "execution_count": null,
      "outputs": []
    },
    {
      "cell_type": "code",
      "source": [
        "city_found = False\n",
        "#for pdf_path in pdf_paths:\n",
        "    #Gets the market and release date string from the first line on the PDF\n",
        "info = tabula.read_pdf(\n",
        "    this_pdf, \n",
        "    guess=False, pages=1, stream=True , encoding=\"utf-8\", \n",
        "    area = (100,20,340,300) \n",
        ")\n",
        "\n",
        "info = info[0]\n",
        "for i, row in info.iterrows():\n",
        "    for city in cities:\n",
        "        if city in str(row[0]):\n",
        "            newstring = row[0].split(\":\")[0]\n",
        "            newstring1 = newstring.split(\",\")\n",
        "            market = newstring1[0]\n",
        "            release_date = newstring1[1] + newstring1[2]\n",
        "            print(\"Market:\", market, \"Release date:\", release_date)\n",
        "\n",
        "print(info)\n",
        "            "
      ],
      "metadata": {
        "colab": {
          "base_uri": "https://localhost:8080/"
        },
        "id": "hPCKJPDp59mQ",
        "outputId": "6d2c3897-137c-4cfe-924e-6d32c8433117"
      },
      "execution_count": null,
      "outputs": [
        {
          "output_type": "stream",
          "name": "stderr",
          "text": [
            "WARNING:tabula.io:Got stderr: Feb 21, 2023 1:59:43 PM org.apache.pdfbox.pdmodel.font.PDTrueTypeFont <init>\n",
            "WARNING: Using fallback font 'LiberationSerif' for 'TimesNewRomanPSMT'\n",
            "Feb 21, 2023 1:59:43 PM org.apache.pdfbox.pdmodel.font.PDTrueTypeFont <init>\n",
            "WARNING: Using fallback font 'LiberationSans-Bold' for 'ArialNarrow-Bold'\n",
            "Feb 21, 2023 1:59:43 PM org.apache.pdfbox.pdmodel.font.PDTrueTypeFont <init>\n",
            "WARNING: Using fallback font 'LiberationSans' for 'ArialNarrow'\n",
            "Feb 21, 2023 1:59:43 PM org.apache.pdfbox.pdmodel.font.PDTrueTypeFont <init>\n",
            "WARNING: Using fallback font 'LiberationSerif-Bold' for 'TimesNewRomanPS-BoldMT'\n",
            "\n"
          ]
        },
        {
          "output_type": "stream",
          "name": "stdout",
          "text": [
            "                                           Unnamed: 0\n",
            "0                                                 NaN\n",
            "1                                                 NaN\n",
            "2                                                 NaN\n",
            "3                S&P Dow Jones Indices Announces Sept\n",
            "4                                         the S&P/ASX\n",
            "5                                                 NaN\n",
            "6                                                 NaN\n",
            "7          Sydney, September 7, 2012: S&P Dow Jones I\n",
            "8   S&P/ASX indices, effective after the close of tra\n",
            "9    September quarterly review. At this rebalance, t\n",
            "10      S&P/ASX All Australian indices were reviewed.\n",
            "11                                                NaN\n",
            "12                                                NaN\n",
            "13                            S&P/ASX 20 – No change.\n"
          ]
        }
      ]
    }
  ]
}